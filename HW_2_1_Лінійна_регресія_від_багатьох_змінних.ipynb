{
 "cells": [
  {
   "cell_type": "markdown",
   "metadata": {
    "id": "87fwNK3xoy5K"
   },
   "source": [
    "В цьому домашньому завданні ми з вами побудуємо повноцінне ML-рішення реальної ML-задачі. Ви вже маєте всі знання, які для цього потрібні. Дотримуйтесь інструкцій, та користуйтесь матеріалами лекцій, аби виконувати завдання. Тут інструкції будуть детальні, а в подільших завданнях - будуть ставати все менш детальними, аби ви вже починали самостійно структурувати ML-проєкт і до кінця курсу для вас розвʼязати будь-яку ML–задачу було eazy-breezy.\n",
    "\n",
    "## Dataset\n",
    "\n",
    "Будемо працювати з набором даних `cars.csv`, який описує автомобілі і їх ціну у індійських рупіях :) Мета - передбачити ціну авто за його характеристиками. Опис набору даних:\n",
    "\n",
    "| Назва рядка            | Опис                                                                                                                                                 |\n",
    "|------------------------|--------------------------------------------------------------------------------------------------------------------------------------------------------|\n",
    "| Car_ID                 | Унікальний ідентифікатор для кожного оголошення про автомобіль.                                                                                         |\n",
    "| Brand                  | Бренд або виробник автомобіля (наприклад, Toyota, Honda, Ford тощо).                                                                                     |\n",
    "| Model                  | Модель автомобіля (наприклад, Camry, Civic, Mustang тощо).                                                                                               |\n",
    "| Year                   | Рік виготовлення автомобіля.                                                                                                                            |\n",
    "| Kilometers_Driven      | Загальний пробіг автомобіля у кілометрах.                                                                                                               |\n",
    "| Fuel_Type              | Тип палива, який використовує автомобіль (наприклад, бензин, дизель, електро тощо).                                                                      |\n",
    "| Transmission           | Тип трансмісії автомобіля (наприклад, механічна, автоматична).                                                                                           |\n",
    "| Owner_Type             | Кількість попередніх власників автомобіля (наприклад, перший, другий, третій).                                                                           |\n",
    "| Mileage                | Паливна ефективність автомобіля у кілометрах на літр.                                                                                                   |\n",
    "| Engine                 | Об'єм двигуна автомобіля в кубічних сантиметрах (CC).                                                                                                   |\n",
    "| Power                  | Максимальна потужність автомобіля в кінських силах (bhp).                                                                                               |\n",
    "| Seats                  | Кількість місць в автомобілі.                                                                                                                           |\n",
    "| Price                  | Вартість автомобіля в INR (індійські рупії), що є цільовою змінною для прогнозування.                                                                   |"
   ]
  },
  {
   "cell_type": "markdown",
   "metadata": {
    "id": "52f35fee",
    "papermill": {
     "duration": 0.006069,
     "end_time": "2024-05-08T20:04:53.925383",
     "exception": false,
     "start_time": "2024-05-08T20:04:53.919314",
     "status": "completed"
    },
    "tags": []
   },
   "source": [
    "# Імпорти\n",
    "\n",
    "Для зручності рекомендую всі імпорти розмістити тут нагорі, аби коли ви перезавантажували ноутбук, одразу можна було в один запуск клітинки імпортувати всі потрібні бібліотеки."
   ]
  },
  {
   "cell_type": "code",
   "execution_count": 1,
   "metadata": {
    "id": "0a49b1bb",
    "papermill": {
     "duration": 2.43769,
     "end_time": "2024-05-08T20:04:56.369349",
     "exception": false,
     "start_time": "2024-05-08T20:04:53.931659",
     "status": "completed"
    },
    "tags": []
   },
   "outputs": [],
   "source": [
    "import pandas as pd\n",
    "import numpy as np\n",
    "import matplotlib.pyplot as plt\n",
    "from sklearn.model_selection import train_test_split\n",
    "from sklearn.preprocessing import OrdinalEncoder\n",
    "from sklearn.preprocessing import OneHotEncoder\n",
    "from sklearn.linear_model import LinearRegression\n",
    "from sklearn.preprocessing import StandardScaler\n",
    "from sklearn.metrics import mean_squared_error, r2_score\n",
    "import statsmodels.api as sm"
   ]
  },
  {
   "cell_type": "markdown",
   "metadata": {
    "id": "mpKIfgg-FV98"
   },
   "source": [
    "# Знайомство з даними"
   ]
  },
  {
   "cell_type": "markdown",
   "metadata": {
    "id": "fc07024e",
    "papermill": {
     "duration": 0.006026,
     "end_time": "2024-05-08T20:04:56.381857",
     "exception": false,
     "start_time": "2024-05-08T20:04:56.375831",
     "status": "completed"
    },
    "tags": []
   },
   "source": [
    "**Завдання 1.** Завантажте набір даних `cars.csv` в pandas.DataFrame. Виведіть перші 5 записів."
   ]
  },
  {
   "cell_type": "code",
   "execution_count": 2,
   "metadata": {
    "id": "lKtSXyENfJxD"
   },
   "outputs": [
    {
     "data": {
      "text/html": [
       "<div>\n",
       "<style scoped>\n",
       "    .dataframe tbody tr th:only-of-type {\n",
       "        vertical-align: middle;\n",
       "    }\n",
       "\n",
       "    .dataframe tbody tr th {\n",
       "        vertical-align: top;\n",
       "    }\n",
       "\n",
       "    .dataframe thead th {\n",
       "        text-align: right;\n",
       "    }\n",
       "</style>\n",
       "<table border=\"1\" class=\"dataframe\">\n",
       "  <thead>\n",
       "    <tr style=\"text-align: right;\">\n",
       "      <th></th>\n",
       "      <th>Car_ID</th>\n",
       "      <th>Brand</th>\n",
       "      <th>Model</th>\n",
       "      <th>Year</th>\n",
       "      <th>Kilometers_Driven</th>\n",
       "      <th>Fuel_Type</th>\n",
       "      <th>Transmission</th>\n",
       "      <th>Owner_Type</th>\n",
       "      <th>Mileage</th>\n",
       "      <th>Engine</th>\n",
       "      <th>Power</th>\n",
       "      <th>Seats</th>\n",
       "      <th>Price</th>\n",
       "    </tr>\n",
       "  </thead>\n",
       "  <tbody>\n",
       "    <tr>\n",
       "      <th>0</th>\n",
       "      <td>1</td>\n",
       "      <td>Toyota</td>\n",
       "      <td>Corolla</td>\n",
       "      <td>2018</td>\n",
       "      <td>50000</td>\n",
       "      <td>Petrol</td>\n",
       "      <td>Manual</td>\n",
       "      <td>First</td>\n",
       "      <td>15</td>\n",
       "      <td>1498</td>\n",
       "      <td>108</td>\n",
       "      <td>5</td>\n",
       "      <td>800000</td>\n",
       "    </tr>\n",
       "    <tr>\n",
       "      <th>1</th>\n",
       "      <td>2</td>\n",
       "      <td>Honda</td>\n",
       "      <td>Civic</td>\n",
       "      <td>2019</td>\n",
       "      <td>40000</td>\n",
       "      <td>Petrol</td>\n",
       "      <td>Automatic</td>\n",
       "      <td>Second</td>\n",
       "      <td>17</td>\n",
       "      <td>1597</td>\n",
       "      <td>140</td>\n",
       "      <td>5</td>\n",
       "      <td>1000000</td>\n",
       "    </tr>\n",
       "    <tr>\n",
       "      <th>2</th>\n",
       "      <td>3</td>\n",
       "      <td>Ford</td>\n",
       "      <td>Mustang</td>\n",
       "      <td>2017</td>\n",
       "      <td>20000</td>\n",
       "      <td>Petrol</td>\n",
       "      <td>Automatic</td>\n",
       "      <td>First</td>\n",
       "      <td>10</td>\n",
       "      <td>4951</td>\n",
       "      <td>395</td>\n",
       "      <td>4</td>\n",
       "      <td>2500000</td>\n",
       "    </tr>\n",
       "    <tr>\n",
       "      <th>3</th>\n",
       "      <td>4</td>\n",
       "      <td>Maruti</td>\n",
       "      <td>Swift</td>\n",
       "      <td>2020</td>\n",
       "      <td>30000</td>\n",
       "      <td>Diesel</td>\n",
       "      <td>Manual</td>\n",
       "      <td>Third</td>\n",
       "      <td>23</td>\n",
       "      <td>1248</td>\n",
       "      <td>74</td>\n",
       "      <td>5</td>\n",
       "      <td>600000</td>\n",
       "    </tr>\n",
       "    <tr>\n",
       "      <th>4</th>\n",
       "      <td>5</td>\n",
       "      <td>Hyundai</td>\n",
       "      <td>Sonata</td>\n",
       "      <td>2016</td>\n",
       "      <td>60000</td>\n",
       "      <td>Diesel</td>\n",
       "      <td>Automatic</td>\n",
       "      <td>Second</td>\n",
       "      <td>18</td>\n",
       "      <td>1999</td>\n",
       "      <td>194</td>\n",
       "      <td>5</td>\n",
       "      <td>850000</td>\n",
       "    </tr>\n",
       "  </tbody>\n",
       "</table>\n",
       "</div>"
      ],
      "text/plain": [
       "   Car_ID    Brand    Model  Year  Kilometers_Driven Fuel_Type Transmission  \\\n",
       "0       1   Toyota  Corolla  2018              50000    Petrol       Manual   \n",
       "1       2    Honda    Civic  2019              40000    Petrol    Automatic   \n",
       "2       3     Ford  Mustang  2017              20000    Petrol    Automatic   \n",
       "3       4   Maruti    Swift  2020              30000    Diesel       Manual   \n",
       "4       5  Hyundai   Sonata  2016              60000    Diesel    Automatic   \n",
       "\n",
       "  Owner_Type  Mileage  Engine  Power  Seats    Price  \n",
       "0      First       15    1498    108      5   800000  \n",
       "1     Second       17    1597    140      5  1000000  \n",
       "2      First       10    4951    395      4  2500000  \n",
       "3      Third       23    1248     74      5   600000  \n",
       "4     Second       18    1999    194      5   850000  "
      ]
     },
     "execution_count": 2,
     "metadata": {},
     "output_type": "execute_result"
    }
   ],
   "source": [
    "df = pd.read_csv('cars.csv') \n",
    "df.head()"
   ]
  },
  {
   "cell_type": "markdown",
   "metadata": {
    "id": "BlayjhivF7Ha"
   },
   "source": [
    "**Завдання 2.** Виведіть типи даних колонок даних, а також дослідіть, які по факту типи даних мають записи в кожній колонці (тип `object` може містити різні типи даних) і скільки значень є в кожній категоріальній колонці.\n",
    "\n",
    "Напишіть висновок, скільки в наборі даних числових та категоріальних колонок кожного з трьох різних типів (бінарна, мільтикатегоріальна без порядку, мультикатегоріальна з порядком). Шаблон висновку\n",
    "\n",
    "```\n",
    "В наборі даних 10 числових і 10 категоріальних колонок з них\n",
    "- 2 бінарні (мають лише 2 значення)\n",
    "- 6 мультикатегоріальних (більше 2х значень) зі значеннями, для яких немає відношення порядку\n",
    "- 2 колонки, в яких можна встановити відношення порядку (наприклад Small<Medium<Large)\n",
    "```\n",
    "\n",
    "Якщо не знаєте, як це зробити з `pandas` - ось підказка, які методи можуть допомогти вам виконати це завдання\n",
    "\n",
    "- pandas.DataFrame.info()\n",
    "- pandas.DataFrame.dtypes\n",
    "- pandas.DataFrame.loc[...]\n",
    "- pandas.DataFrame.select_dtypes(...)\n",
    "- pandas.Series.unique()\n",
    "- pandas.Series.nunique()\n",
    "\n",
    "Детальніше ознайомитись з кожним ви можете в [документації](https://pandas.pydata.org/docs/reference/frame.html), або написати в окремій клітинці знак питання і назву методу (тільки приберіть це перед здачею, бо перегляд документації - не допомагає зрозуміти дані і хід думок, а Ваша робота - це як презентація замовнику зробленої задачі).\n"
   ]
  },
  {
   "cell_type": "code",
   "execution_count": 3,
   "metadata": {
    "id": "jRUUJd2CJW3s"
   },
   "outputs": [],
   "source": [
    "# приклад як викликати документацію, якщо у Вас pandas імпортований як pd\n",
    "# ?pd.DataFrame.info"
   ]
  },
  {
   "cell_type": "code",
   "execution_count": 4,
   "metadata": {
    "id": "a9bTpxKtfL7H"
   },
   "outputs": [
    {
     "data": {
      "text/plain": [
       "<bound method DataFrame.info of     Car_ID     Brand          Model  Year  Kilometers_Driven Fuel_Type  \\\n",
       "0        1    Toyota        Corolla  2018              50000    Petrol   \n",
       "1        2     Honda          Civic  2019              40000    Petrol   \n",
       "2        3      Ford        Mustang  2017              20000    Petrol   \n",
       "3        4    Maruti          Swift  2020              30000    Diesel   \n",
       "4        5   Hyundai         Sonata  2016              60000    Diesel   \n",
       "..     ...       ...            ...   ...                ...       ...   \n",
       "95      96  Mercedes        C-Class  2019              22000    Diesel   \n",
       "96      97    Toyota  Innova Crysta  2017              38000    Diesel   \n",
       "97      98      Ford       EcoSport  2018              26000    Petrol   \n",
       "98      99   Hyundai          Verna  2019              24000    Petrol   \n",
       "99     100      Tata         Altroz  2020              18000    Petrol   \n",
       "\n",
       "   Transmission Owner_Type  Mileage  Engine  Power  Seats    Price  \n",
       "0        Manual      First       15    1498    108      5   800000  \n",
       "1     Automatic     Second       17    1597    140      5  1000000  \n",
       "2     Automatic      First       10    4951    395      4  2500000  \n",
       "3        Manual      Third       23    1248     74      5   600000  \n",
       "4     Automatic     Second       18    1999    194      5   850000  \n",
       "..          ...        ...      ...     ...    ...    ...      ...  \n",
       "95    Automatic      First       16    1950    191      5  2900000  \n",
       "96       Manual     Second       13    2755    171      7  1400000  \n",
       "97       Manual      Third       18    1497    121      5   750000  \n",
       "98    Automatic     Second       17    1497    113      5   850000  \n",
       "99       Manual      First       20    1199     85      5   600000  \n",
       "\n",
       "[100 rows x 13 columns]>"
      ]
     },
     "execution_count": 4,
     "metadata": {},
     "output_type": "execute_result"
    }
   ],
   "source": [
    "df.info"
   ]
  },
  {
   "cell_type": "code",
   "execution_count": 5,
   "metadata": {},
   "outputs": [
    {
     "data": {
      "text/plain": [
       "Car_ID                int64\n",
       "Brand                object\n",
       "Model                object\n",
       "Year                  int64\n",
       "Kilometers_Driven     int64\n",
       "Fuel_Type            object\n",
       "Transmission         object\n",
       "Owner_Type           object\n",
       "Mileage               int64\n",
       "Engine                int64\n",
       "Power                 int64\n",
       "Seats                 int64\n",
       "Price                 int64\n",
       "dtype: object"
      ]
     },
     "execution_count": 5,
     "metadata": {},
     "output_type": "execute_result"
    }
   ],
   "source": [
    "df.dtypes"
   ]
  },
  {
   "cell_type": "markdown",
   "metadata": {},
   "source": [
    "В наборі даних 8 числових і 5 категоріальних колонок з них:\n",
    "- 2 бінарні (`Fuel_Type`, `Transmission`)\n",
    "- 1 мультикатегоріальна (`Brand`)\n",
    "- 1 колонкa, в якій можна встановити відношення порядку (`Owner_Type`)"
   ]
  },
  {
   "cell_type": "markdown",
   "metadata": {
    "id": "feZvNdSXO-tn"
   },
   "source": [
    "**Завдання 3**. Розділіть дані на тренувальні і тест. Відведіть в тест 20%, поставте `random_state=12`. Ми будемо передбачати колонку `Price` - тож, вона є цільовою змінною. В результаті у Вас має бути 4 набори даних `X_train, X_test, y_train, y_test`.\n",
    "\n",
    "Надалі ми всюди тренуємо методи для кодування, масштабування та саму модель тільки на тренувальних даних X_train (та y_train для моделі), а на тестувальних лише використовуємо вже навчені методи для кодування, масштабування і модель викликаючи в них `transform()` (для методів обробки даних) або `predict()` (для моделі).\n",
    "\n",
    "І так само треба робити завжди."
   ]
  },
  {
   "cell_type": "code",
   "execution_count": 6,
   "metadata": {
    "id": "lkugT6mmfM2p"
   },
   "outputs": [],
   "source": [
    "X = df.drop('Price', axis=1)\n",
    "y = df['Price'] \n",
    "X_train, X_test, y_train, y_test = train_test_split(\n",
    "    X, y, test_size=0.2, random_state=12\n",
    ")"
   ]
  },
  {
   "cell_type": "markdown",
   "metadata": {
    "id": "EvzXSbIxKBwR"
   },
   "source": [
    "**Завдання 4**. Кодуємо категоріальні колонки.\n",
    "\n",
    "1. Закодуйте колонки з бінарними значеннями `Fuel_Type` і `Transmission` так, аби вони були у чисельному представленні і містили лише 0 так 1. Приклад був у лекції. Значення 1 нехай буде у категорії, яка містить більше значень в колонці.\n",
    "\n",
    "2. Закодуйте колонку `Brand` з використанням `sklearn.preprocessing.OneHotEncoder` аналогічно до того, як ми робили це в лекції. Увага! Ми робимо виклик методу `Encoder.fit()` на тренувальних даних `X_train`, а на тестувальних тільки викликаємо `Encoder.transform()`. Додайте закодовані значення в набори даних `X_train`, `X_test`.\n",
    "\n",
    "3. Колонку `Owner_Type` з використанням `sklearn.preprocessing.OrdinalEncoder` я закодую для вас. Проаналізуйте, що відбувається.\n",
    "\n",
    "Колонка `Model` містять забагато значень для кодування в тому вигляді, як вона є зараз, з огляду на невелику кількість даних. Якщо ви бачите, як можна згрупувати значення в цій колонці скоротивши кількість унікальних значень до 3-5, то можете виконати ще цю трансформацію, використати цю колонку в моделі і отримати додаткову практику і бал, якщо все буде зроблено правильно. А якщо неправильно - то фідбек на Вашу роботу :)"
   ]
  },
  {
   "cell_type": "code",
   "execution_count": 7,
   "metadata": {
    "id": "oKrg78cYfzBh"
   },
   "outputs": [],
   "source": [
    "X_train_bin = X_train.copy()\n",
    "X_test_bin = X_test.copy()\n",
    "\n",
    "fuel_map = (X_train_bin['Fuel_Type'].value_counts().index[0], \n",
    "            X_train_bin['Fuel_Type'].value_counts().index[1])\n",
    "X_train_bin['Fuel_Type'] = X_train_bin['Fuel_Type'].apply(lambda x: 1 if x == fuel_map[0] else 0)\n",
    "X_test_bin['Fuel_Type'] = X_test_bin['Fuel_Type'].apply(lambda x: 1 if x == fuel_map[0] else 0)\n",
    "\n",
    "trans_map = (X_train_bin['Transmission'].value_counts().index[0], \n",
    "             X_train_bin['Transmission'].value_counts().index[1])\n",
    "X_train_bin['Transmission'] = X_train_bin['Transmission'].apply(lambda x: 1 if x == trans_map[0] else 0)\n",
    "X_test_bin['Transmission'] = X_test_bin['Transmission'].apply(lambda x: 1 if x == trans_map[0] else 0)"
   ]
  },
  {
   "cell_type": "code",
   "execution_count": 8,
   "metadata": {},
   "outputs": [],
   "source": [
    "ohe = OneHotEncoder(handle_unknown='ignore', sparse=False)\n",
    "brand_encoded_train = ohe.fit_transform(X_train_bin[['Brand']])\n",
    "brand_encoded_test = ohe.transform(X_test_bin[['Brand']])\n",
    "\n",
    "brand_encoded_cols = ohe.get_feature_names_out(['Brand'])\n",
    "\n",
    "# датафрейм з новими колонками\n",
    "brand_encoded_train_df = pd.DataFrame(brand_encoded_train, columns=brand_encoded_cols, index=X_train_bin.index)\n",
    "brand_encoded_test_df = pd.DataFrame(brand_encoded_test, columns=brand_encoded_cols, index=X_test_bin.index)\n",
    "\n",
    "X_train_encoded = pd.concat([X_train_bin.drop(columns=['Brand']), brand_encoded_train_df], axis=1)\n",
    "X_test_encoded = pd.concat([X_test_bin.drop(columns=['Brand']), brand_encoded_test_df], axis=1)"
   ]
  },
  {
   "cell_type": "code",
   "execution_count": 9,
   "metadata": {
    "id": "tU3uA6kNOkzb"
   },
   "outputs": [],
   "source": [
    "ordenc = OrdinalEncoder(categories=[['First', 'Second', 'Third']]) # визначаємо порядок категорій\n",
    "ordenc.fit(X_train_encoded[['Owner_Type']])\n",
    "\n",
    "X_train_encoded['Owner_Type_Codes'] = ordenc.transform(X_train_encoded[['Owner_Type']])\n",
    "X_test_encoded['Owner_Type_Codes'] = ordenc.transform(X_test_encoded[['Owner_Type']])"
   ]
  },
  {
   "cell_type": "markdown",
   "metadata": {
    "id": "P-woc2oUSZu4"
   },
   "source": [
    "Очікуваний результат після трансформацій:"
   ]
  },
  {
   "cell_type": "code",
   "execution_count": 10,
   "metadata": {
    "colab": {
     "base_uri": "https://localhost:8080/",
     "height": 432
    },
    "id": "brxPGShISEhz",
    "outputId": "ae807da8-6694-4951-8c8c-69d1e96733d0"
   },
   "outputs": [
    {
     "data": {
      "text/html": [
       "<div>\n",
       "<style scoped>\n",
       "    .dataframe tbody tr th:only-of-type {\n",
       "        vertical-align: middle;\n",
       "    }\n",
       "\n",
       "    .dataframe tbody tr th {\n",
       "        vertical-align: top;\n",
       "    }\n",
       "\n",
       "    .dataframe thead th {\n",
       "        text-align: right;\n",
       "    }\n",
       "</style>\n",
       "<table border=\"1\" class=\"dataframe\">\n",
       "  <thead>\n",
       "    <tr style=\"text-align: right;\">\n",
       "      <th></th>\n",
       "      <th>Car_ID</th>\n",
       "      <th>Model</th>\n",
       "      <th>Year</th>\n",
       "      <th>Kilometers_Driven</th>\n",
       "      <th>Fuel_Type</th>\n",
       "      <th>Transmission</th>\n",
       "      <th>Owner_Type</th>\n",
       "      <th>Mileage</th>\n",
       "      <th>Engine</th>\n",
       "      <th>Power</th>\n",
       "      <th>Seats</th>\n",
       "      <th>Brand_Audi</th>\n",
       "      <th>Brand_BMW</th>\n",
       "      <th>Brand_Ford</th>\n",
       "      <th>Brand_Honda</th>\n",
       "      <th>Brand_Hyundai</th>\n",
       "      <th>Brand_Mahindra</th>\n",
       "      <th>Brand_Maruti</th>\n",
       "      <th>Brand_Mercedes</th>\n",
       "      <th>Brand_Tata</th>\n",
       "      <th>Brand_Toyota</th>\n",
       "      <th>Brand_Volkswagen</th>\n",
       "      <th>Owner_Type_Codes</th>\n",
       "    </tr>\n",
       "  </thead>\n",
       "  <tbody>\n",
       "    <tr>\n",
       "      <th>83</th>\n",
       "      <td>84</td>\n",
       "      <td>T-Roc</td>\n",
       "      <td>2019</td>\n",
       "      <td>22000</td>\n",
       "      <td>1</td>\n",
       "      <td>1</td>\n",
       "      <td>Second</td>\n",
       "      <td>18</td>\n",
       "      <td>1498</td>\n",
       "      <td>148</td>\n",
       "      <td>5</td>\n",
       "      <td>0.0</td>\n",
       "      <td>0.0</td>\n",
       "      <td>0.0</td>\n",
       "      <td>0.0</td>\n",
       "      <td>0.0</td>\n",
       "      <td>0.0</td>\n",
       "      <td>0.0</td>\n",
       "      <td>0.0</td>\n",
       "      <td>0.0</td>\n",
       "      <td>0.0</td>\n",
       "      <td>1.0</td>\n",
       "      <td>1.0</td>\n",
       "    </tr>\n",
       "    <tr>\n",
       "      <th>55</th>\n",
       "      <td>56</td>\n",
       "      <td>A5</td>\n",
       "      <td>2018</td>\n",
       "      <td>28000</td>\n",
       "      <td>0</td>\n",
       "      <td>1</td>\n",
       "      <td>First</td>\n",
       "      <td>17</td>\n",
       "      <td>1968</td>\n",
       "      <td>187</td>\n",
       "      <td>5</td>\n",
       "      <td>1.0</td>\n",
       "      <td>0.0</td>\n",
       "      <td>0.0</td>\n",
       "      <td>0.0</td>\n",
       "      <td>0.0</td>\n",
       "      <td>0.0</td>\n",
       "      <td>0.0</td>\n",
       "      <td>0.0</td>\n",
       "      <td>0.0</td>\n",
       "      <td>0.0</td>\n",
       "      <td>0.0</td>\n",
       "      <td>0.0</td>\n",
       "    </tr>\n",
       "    <tr>\n",
       "      <th>26</th>\n",
       "      <td>27</td>\n",
       "      <td>A6</td>\n",
       "      <td>2018</td>\n",
       "      <td>28000</td>\n",
       "      <td>1</td>\n",
       "      <td>1</td>\n",
       "      <td>First</td>\n",
       "      <td>15</td>\n",
       "      <td>1984</td>\n",
       "      <td>241</td>\n",
       "      <td>5</td>\n",
       "      <td>1.0</td>\n",
       "      <td>0.0</td>\n",
       "      <td>0.0</td>\n",
       "      <td>0.0</td>\n",
       "      <td>0.0</td>\n",
       "      <td>0.0</td>\n",
       "      <td>0.0</td>\n",
       "      <td>0.0</td>\n",
       "      <td>0.0</td>\n",
       "      <td>0.0</td>\n",
       "      <td>0.0</td>\n",
       "      <td>0.0</td>\n",
       "    </tr>\n",
       "    <tr>\n",
       "      <th>54</th>\n",
       "      <td>55</td>\n",
       "      <td>Vento</td>\n",
       "      <td>2017</td>\n",
       "      <td>32000</td>\n",
       "      <td>1</td>\n",
       "      <td>0</td>\n",
       "      <td>Second</td>\n",
       "      <td>18</td>\n",
       "      <td>1598</td>\n",
       "      <td>103</td>\n",
       "      <td>5</td>\n",
       "      <td>0.0</td>\n",
       "      <td>0.0</td>\n",
       "      <td>0.0</td>\n",
       "      <td>0.0</td>\n",
       "      <td>0.0</td>\n",
       "      <td>0.0</td>\n",
       "      <td>0.0</td>\n",
       "      <td>0.0</td>\n",
       "      <td>0.0</td>\n",
       "      <td>0.0</td>\n",
       "      <td>1.0</td>\n",
       "      <td>1.0</td>\n",
       "    </tr>\n",
       "    <tr>\n",
       "      <th>19</th>\n",
       "      <td>20</td>\n",
       "      <td>GLC</td>\n",
       "      <td>2017</td>\n",
       "      <td>26000</td>\n",
       "      <td>1</td>\n",
       "      <td>1</td>\n",
       "      <td>Second</td>\n",
       "      <td>12</td>\n",
       "      <td>1991</td>\n",
       "      <td>241</td>\n",
       "      <td>5</td>\n",
       "      <td>0.0</td>\n",
       "      <td>0.0</td>\n",
       "      <td>0.0</td>\n",
       "      <td>0.0</td>\n",
       "      <td>0.0</td>\n",
       "      <td>0.0</td>\n",
       "      <td>0.0</td>\n",
       "      <td>1.0</td>\n",
       "      <td>0.0</td>\n",
       "      <td>0.0</td>\n",
       "      <td>0.0</td>\n",
       "      <td>1.0</td>\n",
       "    </tr>\n",
       "  </tbody>\n",
       "</table>\n",
       "</div>"
      ],
      "text/plain": [
       "    Car_ID  Model  Year  Kilometers_Driven  Fuel_Type  Transmission  \\\n",
       "83      84  T-Roc  2019              22000          1             1   \n",
       "55      56     A5  2018              28000          0             1   \n",
       "26      27     A6  2018              28000          1             1   \n",
       "54      55  Vento  2017              32000          1             0   \n",
       "19      20    GLC  2017              26000          1             1   \n",
       "\n",
       "   Owner_Type  Mileage  Engine  Power  Seats  Brand_Audi  Brand_BMW  \\\n",
       "83     Second       18    1498    148      5         0.0        0.0   \n",
       "55      First       17    1968    187      5         1.0        0.0   \n",
       "26      First       15    1984    241      5         1.0        0.0   \n",
       "54     Second       18    1598    103      5         0.0        0.0   \n",
       "19     Second       12    1991    241      5         0.0        0.0   \n",
       "\n",
       "    Brand_Ford  Brand_Honda  Brand_Hyundai  Brand_Mahindra  Brand_Maruti  \\\n",
       "83         0.0          0.0            0.0             0.0           0.0   \n",
       "55         0.0          0.0            0.0             0.0           0.0   \n",
       "26         0.0          0.0            0.0             0.0           0.0   \n",
       "54         0.0          0.0            0.0             0.0           0.0   \n",
       "19         0.0          0.0            0.0             0.0           0.0   \n",
       "\n",
       "    Brand_Mercedes  Brand_Tata  Brand_Toyota  Brand_Volkswagen  \\\n",
       "83             0.0         0.0           0.0               1.0   \n",
       "55             0.0         0.0           0.0               0.0   \n",
       "26             0.0         0.0           0.0               0.0   \n",
       "54             0.0         0.0           0.0               1.0   \n",
       "19             1.0         0.0           0.0               0.0   \n",
       "\n",
       "    Owner_Type_Codes  \n",
       "83               1.0  \n",
       "55               0.0  \n",
       "26               0.0  \n",
       "54               1.0  \n",
       "19               1.0  "
      ]
     },
     "metadata": {},
     "output_type": "display_data"
    },
    {
     "data": {
      "text/html": [
       "<div>\n",
       "<style scoped>\n",
       "    .dataframe tbody tr th:only-of-type {\n",
       "        vertical-align: middle;\n",
       "    }\n",
       "\n",
       "    .dataframe tbody tr th {\n",
       "        vertical-align: top;\n",
       "    }\n",
       "\n",
       "    .dataframe thead th {\n",
       "        text-align: right;\n",
       "    }\n",
       "</style>\n",
       "<table border=\"1\" class=\"dataframe\">\n",
       "  <thead>\n",
       "    <tr style=\"text-align: right;\">\n",
       "      <th></th>\n",
       "      <th>Car_ID</th>\n",
       "      <th>Model</th>\n",
       "      <th>Year</th>\n",
       "      <th>Kilometers_Driven</th>\n",
       "      <th>Fuel_Type</th>\n",
       "      <th>Transmission</th>\n",
       "      <th>Owner_Type</th>\n",
       "      <th>Mileage</th>\n",
       "      <th>Engine</th>\n",
       "      <th>Power</th>\n",
       "      <th>Seats</th>\n",
       "      <th>Brand_Audi</th>\n",
       "      <th>Brand_BMW</th>\n",
       "      <th>Brand_Ford</th>\n",
       "      <th>Brand_Honda</th>\n",
       "      <th>Brand_Hyundai</th>\n",
       "      <th>Brand_Mahindra</th>\n",
       "      <th>Brand_Maruti</th>\n",
       "      <th>Brand_Mercedes</th>\n",
       "      <th>Brand_Tata</th>\n",
       "      <th>Brand_Toyota</th>\n",
       "      <th>Brand_Volkswagen</th>\n",
       "      <th>Owner_Type_Codes</th>\n",
       "    </tr>\n",
       "  </thead>\n",
       "  <tbody>\n",
       "    <tr>\n",
       "      <th>17</th>\n",
       "      <td>18</td>\n",
       "      <td>Q3</td>\n",
       "      <td>2016</td>\n",
       "      <td>38000</td>\n",
       "      <td>1</td>\n",
       "      <td>1</td>\n",
       "      <td>Second</td>\n",
       "      <td>15</td>\n",
       "      <td>1395</td>\n",
       "      <td>148</td>\n",
       "      <td>5</td>\n",
       "      <td>1.0</td>\n",
       "      <td>0.0</td>\n",
       "      <td>0.0</td>\n",
       "      <td>0.0</td>\n",
       "      <td>0.0</td>\n",
       "      <td>0.0</td>\n",
       "      <td>0.0</td>\n",
       "      <td>0.0</td>\n",
       "      <td>0.0</td>\n",
       "      <td>0.0</td>\n",
       "      <td>0.0</td>\n",
       "      <td>1.0</td>\n",
       "    </tr>\n",
       "    <tr>\n",
       "      <th>41</th>\n",
       "      <td>42</td>\n",
       "      <td>Santro</td>\n",
       "      <td>2019</td>\n",
       "      <td>26000</td>\n",
       "      <td>1</td>\n",
       "      <td>0</td>\n",
       "      <td>Third</td>\n",
       "      <td>20</td>\n",
       "      <td>1086</td>\n",
       "      <td>68</td>\n",
       "      <td>5</td>\n",
       "      <td>0.0</td>\n",
       "      <td>0.0</td>\n",
       "      <td>0.0</td>\n",
       "      <td>0.0</td>\n",
       "      <td>1.0</td>\n",
       "      <td>0.0</td>\n",
       "      <td>0.0</td>\n",
       "      <td>0.0</td>\n",
       "      <td>0.0</td>\n",
       "      <td>0.0</td>\n",
       "      <td>0.0</td>\n",
       "      <td>2.0</td>\n",
       "    </tr>\n",
       "    <tr>\n",
       "      <th>92</th>\n",
       "      <td>93</td>\n",
       "      <td>Vento</td>\n",
       "      <td>2017</td>\n",
       "      <td>32000</td>\n",
       "      <td>1</td>\n",
       "      <td>0</td>\n",
       "      <td>Second</td>\n",
       "      <td>18</td>\n",
       "      <td>1598</td>\n",
       "      <td>103</td>\n",
       "      <td>5</td>\n",
       "      <td>0.0</td>\n",
       "      <td>0.0</td>\n",
       "      <td>0.0</td>\n",
       "      <td>0.0</td>\n",
       "      <td>0.0</td>\n",
       "      <td>0.0</td>\n",
       "      <td>0.0</td>\n",
       "      <td>0.0</td>\n",
       "      <td>0.0</td>\n",
       "      <td>0.0</td>\n",
       "      <td>1.0</td>\n",
       "      <td>1.0</td>\n",
       "    </tr>\n",
       "    <tr>\n",
       "      <th>14</th>\n",
       "      <td>15</td>\n",
       "      <td>Ertiga</td>\n",
       "      <td>2020</td>\n",
       "      <td>18000</td>\n",
       "      <td>1</td>\n",
       "      <td>0</td>\n",
       "      <td>First</td>\n",
       "      <td>19</td>\n",
       "      <td>1462</td>\n",
       "      <td>103</td>\n",
       "      <td>7</td>\n",
       "      <td>0.0</td>\n",
       "      <td>0.0</td>\n",
       "      <td>0.0</td>\n",
       "      <td>0.0</td>\n",
       "      <td>0.0</td>\n",
       "      <td>0.0</td>\n",
       "      <td>1.0</td>\n",
       "      <td>0.0</td>\n",
       "      <td>0.0</td>\n",
       "      <td>0.0</td>\n",
       "      <td>0.0</td>\n",
       "      <td>0.0</td>\n",
       "    </tr>\n",
       "    <tr>\n",
       "      <th>68</th>\n",
       "      <td>69</td>\n",
       "      <td>Aspire</td>\n",
       "      <td>2019</td>\n",
       "      <td>26000</td>\n",
       "      <td>1</td>\n",
       "      <td>0</td>\n",
       "      <td>Third</td>\n",
       "      <td>20</td>\n",
       "      <td>1194</td>\n",
       "      <td>94</td>\n",
       "      <td>5</td>\n",
       "      <td>0.0</td>\n",
       "      <td>0.0</td>\n",
       "      <td>1.0</td>\n",
       "      <td>0.0</td>\n",
       "      <td>0.0</td>\n",
       "      <td>0.0</td>\n",
       "      <td>0.0</td>\n",
       "      <td>0.0</td>\n",
       "      <td>0.0</td>\n",
       "      <td>0.0</td>\n",
       "      <td>0.0</td>\n",
       "      <td>2.0</td>\n",
       "    </tr>\n",
       "  </tbody>\n",
       "</table>\n",
       "</div>"
      ],
      "text/plain": [
       "    Car_ID   Model  Year  Kilometers_Driven  Fuel_Type  Transmission  \\\n",
       "17      18      Q3  2016              38000          1             1   \n",
       "41      42  Santro  2019              26000          1             0   \n",
       "92      93   Vento  2017              32000          1             0   \n",
       "14      15  Ertiga  2020              18000          1             0   \n",
       "68      69  Aspire  2019              26000          1             0   \n",
       "\n",
       "   Owner_Type  Mileage  Engine  Power  Seats  Brand_Audi  Brand_BMW  \\\n",
       "17     Second       15    1395    148      5         1.0        0.0   \n",
       "41      Third       20    1086     68      5         0.0        0.0   \n",
       "92     Second       18    1598    103      5         0.0        0.0   \n",
       "14      First       19    1462    103      7         0.0        0.0   \n",
       "68      Third       20    1194     94      5         0.0        0.0   \n",
       "\n",
       "    Brand_Ford  Brand_Honda  Brand_Hyundai  Brand_Mahindra  Brand_Maruti  \\\n",
       "17         0.0          0.0            0.0             0.0           0.0   \n",
       "41         0.0          0.0            1.0             0.0           0.0   \n",
       "92         0.0          0.0            0.0             0.0           0.0   \n",
       "14         0.0          0.0            0.0             0.0           1.0   \n",
       "68         1.0          0.0            0.0             0.0           0.0   \n",
       "\n",
       "    Brand_Mercedes  Brand_Tata  Brand_Toyota  Brand_Volkswagen  \\\n",
       "17             0.0         0.0           0.0               0.0   \n",
       "41             0.0         0.0           0.0               0.0   \n",
       "92             0.0         0.0           0.0               1.0   \n",
       "14             0.0         0.0           0.0               0.0   \n",
       "68             0.0         0.0           0.0               0.0   \n",
       "\n",
       "    Owner_Type_Codes  \n",
       "17               1.0  \n",
       "41               2.0  \n",
       "92               1.0  \n",
       "14               0.0  \n",
       "68               2.0  "
      ]
     },
     "metadata": {},
     "output_type": "display_data"
    },
    {
     "data": {
      "text/plain": [
       "(None, None)"
      ]
     },
     "execution_count": 10,
     "metadata": {},
     "output_type": "execute_result"
    }
   ],
   "source": [
    "pd.set_option('display.max_columns', 100)\n",
    "display(X_train_encoded.head()), display(X_test_encoded.head())"
   ]
  },
  {
   "cell_type": "markdown",
   "metadata": {
    "id": "wHDyZp9QSnsF"
   },
   "source": [
    "**Завдання 5.** Оберіть лише числові колонки з `X_train` (можна для цього використати `pandas.select_dtypes(...)` або видалити всі НЕчислові дані, вони нам вже не потрібні), обʼєднайте ці дані з `y_train` (зручно з `pandas.concat([df1, df2], axis=1)`), побудуйте для цих даних матрицю кореляції і проаналізуйте її. Напишіть висновок, які колонки корелюють з цільовою змінною на більш ніж 0.5 за модулем (може бути як позитивна, так і негативна кореляція)."
   ]
  },
  {
   "cell_type": "code",
   "execution_count": 11,
   "metadata": {
    "id": "0EIv0cVVf05Z"
   },
   "outputs": [],
   "source": [
    "X_train_numeric = X_train_encoded.select_dtypes(include='number')"
   ]
  },
  {
   "cell_type": "code",
   "execution_count": 12,
   "metadata": {},
   "outputs": [],
   "source": [
    "train_data = pd.concat([X_train_numeric, y_train], axis=1)"
   ]
  },
  {
   "cell_type": "code",
   "execution_count": 13,
   "metadata": {},
   "outputs": [],
   "source": [
    "correlation_matrix = train_data.corr(numeric_only=True)"
   ]
  },
  {
   "cell_type": "code",
   "execution_count": 14,
   "metadata": {
    "scrolled": true
   },
   "outputs": [
    {
     "name": "stdout",
     "output_type": "stream",
     "text": [
      "Power           0.849137\n",
      "Engine          0.710561\n",
      "Transmission    0.680731\n",
      "Mileage        -0.638404\n",
      "Name: Price, dtype: float64\n"
     ]
    }
   ],
   "source": [
    "price_correlation = correlation_matrix['Price'].drop('Price')  # виключаємо саму себе\n",
    "high_corr_features = price_correlation[price_correlation.abs() > 0.5]\n",
    "print(high_corr_features.sort_values(ascending=False))"
   ]
  },
  {
   "cell_type": "markdown",
   "metadata": {},
   "source": [
    "- `Power` (0.85): дуже сильна позитивна кореляція - чим потужніший автомобіль, тим вища його ціна.\n",
    "- `Engine` (0.71): більший обʼєм двигуна також дуже повʼязаний із вищою ціною.\n",
    "- `Transmission` (0.68): тип трансмісії суттєво впливає на ціну (ймовірно, автоматичні дорожчі).\n",
    "- `Mileage` (-0.64): дорогі автомобілі часто мають більші двигуни, вищу потужність і споживають більше пального (менший Mileage)."
   ]
  },
  {
   "cell_type": "markdown",
   "metadata": {
    "id": "G7BZ3pD-USgU"
   },
   "source": [
    "**Завдання 6**. Тренуємо лінійну регресію.\n",
    "0. Видаліть усі НЕчислові колонки з `X_train`, `X_test`, якщо ще цього не зробили.\n",
    "1. Натренуйте лінійну регресую з `sklearn` на усіх числових даних тренувального набору `X_train`.\n",
    "2. Зробіть передбачення на  `X_train`, `X_test`. Знайдіть і виведіть root mean squared error відхилення передбачення від справжніх значень цільової змінної.\n",
    "3. Побудуйте графік розсіювання передбачень проти реальних даних цільової змінної для тренувального і тестувального наборів даних. Що можете сказати про якість моделі?"
   ]
  },
  {
   "cell_type": "code",
   "execution_count": 15,
   "metadata": {
    "id": "SElx21B4f3VY"
   },
   "outputs": [],
   "source": [
    "X_train_num = X_train_encoded.select_dtypes(include='number')\n",
    "X_test_num = X_test_encoded.select_dtypes(include='number')"
   ]
  },
  {
   "cell_type": "code",
   "execution_count": 16,
   "metadata": {},
   "outputs": [
    {
     "data": {
      "text/plain": [
       "LinearRegression()"
      ]
     },
     "execution_count": 16,
     "metadata": {},
     "output_type": "execute_result"
    }
   ],
   "source": [
    "model = LinearRegression()\n",
    "model.fit(X_train_num, y_train)"
   ]
  },
  {
   "cell_type": "code",
   "execution_count": 17,
   "metadata": {},
   "outputs": [
    {
     "name": "stdout",
     "output_type": "stream",
     "text": [
      "RMSE (train): 210293.58\n",
      "RMSE (test): 258181.56\n"
     ]
    }
   ],
   "source": [
    "y_pred_train = model.predict(X_train_num)\n",
    "y_pred_test = model.predict(X_test_num)\n",
    "\n",
    "rmse_train = np.sqrt(mean_squared_error(y_train, y_pred_train))\n",
    "rmse_test = np.sqrt(mean_squared_error(y_test, y_pred_test))\n",
    "\n",
    "print(f\"RMSE (train): {rmse_train:.2f}\")\n",
    "print(f\"RMSE (test): {rmse_test:.2f}\")"
   ]
  },
  {
   "cell_type": "code",
   "execution_count": 18,
   "metadata": {},
   "outputs": [
    {
     "data": {
      "image/png": "[encoded data removed]",
      "text/plain": [
       "<Figure size 700x300 with 1 Axes>"
      ]
     },
     "metadata": {},
     "output_type": "display_data"
    }
   ],
   "source": [
    "plt.figure(figsize=(7, 3))\n",
    "\n",
    "plt.scatter(y_train, y_pred_train, alpha=0.5, label='Train', color='blue')\n",
    "plt.scatter(y_test, y_pred_test, alpha=0.5, label='Test', color='orange')\n",
    "\n",
    "min_val = min(y_train.min(), y_test.min(), y_pred_train.min(), y_pred_test.min())\n",
    "max_val = max(y_train.max(), y_test.max(), y_pred_train.max(), y_pred_test.max())\n",
    "plt.plot([min_val, max_val], [min_val, max_val], 'k--', label='Perfect prediction')\n",
    "\n",
    "plt.xlabel(\"Real Price\")\n",
    "plt.ylabel(\"Predicted Price\")\n",
    "plt.title(\"Real vs Predicted Price (Train & Test)\")\n",
    "plt.legend()\n",
    "plt.grid(True)\n",
    "plt.tight_layout()\n",
    "plt.show()"
   ]
  },
  {
   "cell_type": "markdown",
   "metadata": {},
   "source": [
    "Із графіка видно, що реальні та прогнозовані дані близькі до прямої у=х - ідеального передбачення."
   ]
  },
  {
   "cell_type": "markdown",
   "metadata": {
    "id": "0LcACfQ3W3VP"
   },
   "source": [
    "**Завдання 7**. Ми хочемо проаналізувати як впливає кожен чинник на цілову змінну. Для цього давайте промасштабуємо наші дані.\n",
    "1. Зробіть масштабування незалежних змінних використовуючи `StandardScaler`. Тренуємо на тренувальних даних, а на тестувальних лише викликаємо `transform`.\n",
    "\n",
    "2. Натренуйте модель на відмасштабованих даних і перегляньте коефіцієнти моделі. Які колонки є найвпливовішими на формування передбачення з точки зору коефіцієнтів? Проаналізуйте напрям дії найважливіших коефіцієнтів. Чи це логічно з точки зору значення відповідних змінних, що вони впливають на цільову змінну саме в напрямі збільшення / зменшення?"
   ]
  },
  {
   "cell_type": "code",
   "execution_count": 19,
   "metadata": {
    "id": "HA-l3vUWf6Af"
   },
   "outputs": [],
   "source": [
    "scaler = StandardScaler()\n",
    "\n",
    "X_train_scaled = scaler.fit_transform(X_train_num)\n",
    "X_test_scaled = scaler.transform(X_test_num)"
   ]
  },
  {
   "cell_type": "code",
   "execution_count": 20,
   "metadata": {},
   "outputs": [
    {
     "data": {
      "text/plain": [
       "LinearRegression()"
      ]
     },
     "execution_count": 20,
     "metadata": {},
     "output_type": "execute_result"
    }
   ],
   "source": [
    "model_scaled = LinearRegression()\n",
    "model_scaled.fit(X_train_scaled, y_train)"
   ]
  },
  {
   "cell_type": "code",
   "execution_count": 21,
   "metadata": {},
   "outputs": [
    {
     "name": "stdout",
     "output_type": "stream",
     "text": [
      "              Feature    Coefficient\n",
      "7               Power  496769.214899\n",
      "16     Brand_Mercedes  210048.781148\n",
      "10          Brand_BMW  208407.313783\n",
      "9          Brand_Audi  205600.147769\n",
      "3           Fuel_Type -183848.018909\n",
      "13      Brand_Hyundai -152304.863911\n",
      "14     Brand_Mahindra -140945.162904\n",
      "5             Mileage -131715.512030\n",
      "11         Brand_Ford -118209.450311\n",
      "4        Transmission  116693.768206\n",
      "15       Brand_Maruti -112259.967020\n",
      "2   Kilometers_Driven  -94398.721486\n",
      "19   Brand_Volkswagen  -92968.260065\n",
      "17         Brand_Tata  -65996.246972\n",
      "12        Brand_Honda  -62753.005386\n",
      "20   Owner_Type_Codes   42344.952815\n",
      "6              Engine  -21377.453338\n",
      "18       Brand_Toyota   15805.701511\n",
      "1                Year   -8765.645714\n",
      "0              Car_ID    5608.685421\n",
      "8               Seats   -2148.924549\n"
     ]
    }
   ],
   "source": [
    "feature_names = X_train_num.columns\n",
    "coef_df = pd.DataFrame({\n",
    "    'Feature': feature_names,\n",
    "    'Coefficient': model_scaled.coef_\n",
    "})\n",
    "\n",
    "coef_df['Abs_Coefficient'] = coef_df['Coefficient'].abs()\n",
    "coef_df_sorted = coef_df.sort_values(by='Abs_Coefficient', ascending=False)\n",
    "\n",
    "print(coef_df_sorted[['Feature', 'Coefficient']])"
   ]
  },
  {
   "cell_type": "markdown",
   "metadata": {},
   "source": [
    "- Найбільший позитивний вплив мають потужність і преміум бренди (Mercedes, BMW, Audi) - це логічно.\n",
    "- Пробіг і менш престижні бренди зменшують ціну - теж логічно.\n",
    "- Позитивний вплив трансмісії може пояснюватися перевагою автоматичних коробок передач.\n",
    "- Деякі коефіцієнти дивні (наприклад, `Year` має негативний вплив), можливо через колінеарність чи особливості датасету."
   ]
  },
  {
   "cell_type": "markdown",
   "metadata": {
    "id": "WNNkfnrHr7wL"
   },
   "source": [
    "**Завдання 8.** На тих самих відмасштабованих даних натренуйте модель з `statsmodels`. Виведіть звіт і проаналізуйте p-value коефіцієнтів. Які ознаки є стат значущими на рівні значущості 0.05? Напишіть їх список."
   ]
  },
  {
   "cell_type": "code",
   "execution_count": 22,
   "metadata": {
    "id": "hcYoViyff7zE"
   },
   "outputs": [],
   "source": [
    "X_train_sm = sm.add_constant(X_train_scaled)"
   ]
  },
  {
   "cell_type": "code",
   "execution_count": 23,
   "metadata": {},
   "outputs": [],
   "source": [
    "model_sm = sm.OLS(y_train, X_train_sm).fit()"
   ]
  },
  {
   "cell_type": "code",
   "execution_count": 24,
   "metadata": {},
   "outputs": [
    {
     "name": "stdout",
     "output_type": "stream",
     "text": [
      "                            OLS Regression Results                            \n",
      "==============================================================================\n",
      "Dep. Variable:                  Price   R-squared:                       0.959\n",
      "Model:                            OLS   Adj. R-squared:                  0.945\n",
      "Method:                 Least Squares   F-statistic:                     68.35\n",
      "Date:                Sun, 15 Jun 2025   Prob (F-statistic):           2.01e-33\n",
      "Time:                        15:17:25   Log-Likelihood:                -1094.0\n",
      "No. Observations:                  80   AIC:                             2230.\n",
      "Df Residuals:                      59   BIC:                             2280.\n",
      "Df Model:                          20                                         \n",
      "Covariance Type:            nonrobust                                         \n",
      "==============================================================================\n",
      "                 coef    std err          t      P>|t|      [0.025      0.975]\n",
      "------------------------------------------------------------------------------\n",
      "const        1.68e+06   2.74e+04     61.363      0.000    1.63e+06    1.73e+06\n",
      "x1          5608.6854   3.37e+04      0.166      0.869   -6.19e+04    7.31e+04\n",
      "x2         -8765.6457   6.09e+04     -0.144      0.886   -1.31e+05    1.13e+05\n",
      "x3          -9.44e+04   6.51e+04     -1.449      0.153   -2.25e+05    3.59e+04\n",
      "x4         -1.838e+05   4.57e+04     -4.026      0.000   -2.75e+05   -9.25e+04\n",
      "x5          1.167e+05    4.4e+04      2.653      0.010    2.87e+04    2.05e+05\n",
      "x6         -1.317e+05   5.83e+04     -2.259      0.028   -2.48e+05    -1.5e+04\n",
      "x7         -2.138e+04   7.29e+04     -0.293      0.770   -1.67e+05    1.24e+05\n",
      "x8          4.968e+05   7.54e+04      6.588      0.000    3.46e+05    6.48e+05\n",
      "x9         -2148.9245   4.22e+04     -0.051      0.960   -8.66e+04    8.23e+04\n",
      "x10         2.056e+05   3.05e+04      6.738      0.000    1.45e+05    2.67e+05\n",
      "x11         2.084e+05   3.19e+04      6.532      0.000    1.45e+05    2.72e+05\n",
      "x12        -1.182e+05   3.37e+04     -3.507      0.001   -1.86e+05   -5.08e+04\n",
      "x13        -6.275e+04   3.44e+04     -1.825      0.073   -1.32e+05    6034.235\n",
      "x14        -1.523e+05    2.9e+04     -5.247      0.000    -2.1e+05   -9.42e+04\n",
      "x15        -1.409e+05   2.97e+04     -4.747      0.000      -2e+05   -8.15e+04\n",
      "x16        -1.123e+05   2.91e+04     -3.856      0.000   -1.71e+05    -5.4e+04\n",
      "x17           2.1e+05   3.14e+04      6.682      0.000    1.47e+05    2.73e+05\n",
      "x18          -6.6e+04   3.95e+04     -1.672      0.100   -1.45e+05     1.3e+04\n",
      "x19         1.581e+04   3.47e+04      0.456      0.650   -5.36e+04    8.52e+04\n",
      "x20        -9.297e+04      3e+04     -3.097      0.003   -1.53e+05   -3.29e+04\n",
      "x21         4.234e+04   4.75e+04      0.892      0.376   -5.27e+04    1.37e+05\n",
      "==============================================================================\n",
      "Omnibus:                        0.187   Durbin-Watson:                   2.053\n",
      "Prob(Omnibus):                  0.911   Jarque-Bera (JB):                0.311\n",
      "Skew:                           0.104   Prob(JB):                        0.856\n",
      "Kurtosis:                       2.776   Cond. No.                     9.15e+15\n",
      "==============================================================================\n",
      "\n",
      "Notes:\n",
      "[1] Standard Errors assume that the covariance matrix of the errors is correctly specified.\n",
      "[2] The smallest eigenvalue is 3.59e-30. This might indicate that there are\n",
      "strong multicollinearity problems or that the design matrix is singular.\n"
     ]
    }
   ],
   "source": [
    "print(model_sm.summary())"
   ]
  },
  {
   "cell_type": "code",
   "execution_count": 25,
   "metadata": {
    "scrolled": true
   },
   "outputs": [
    {
     "name": "stdout",
     "output_type": "stream",
     "text": [
      "Статистично значущі ознаки (p < 0.05):\n",
      "x4 — Transmission\n",
      "x5 — Mileage\n",
      "x6 — Engine\n",
      "x8 — Seats\n",
      "x10 — Brand_BMW\n",
      "x11 — Brand_Ford\n",
      "x12 — Brand_Honda\n",
      "x14 — Brand_Mahindra\n",
      "x15 — Brand_Maruti\n",
      "x16 — Brand_Mercedes\n",
      "x17 — Brand_Tata\n",
      "x20 — Owner_Type_Codes\n"
     ]
    }
   ],
   "source": [
    "p_values = model_sm.pvalues\n",
    "significant = p_values[p_values < 0.05].drop('const', errors='ignore')\n",
    "significant_features = significant.index\n",
    "\n",
    "print(\"Статистично значущі ознаки (p < 0.05):\")\n",
    "# for feature in significant_features:\n",
    "#     print(f\"- {feature}\")\n",
    "for i in [4, 5, 6, 8, 10, 11, 12, 14, 15, 16, 17, 20]:\n",
    "    print(f\"x{i} — {X_train_num.columns[i]}\")"
   ]
  },
  {
   "cell_type": "markdown",
   "metadata": {},
   "source": [
    "- Вплив статистично значущих ознак підтверджується і коефіцієнтами, і p-значеннями.\n",
    "- Найсильніший позитивний вплив мають `Transmission`, `Brand_BMW`, `Brand_Mercedes`, `Owner_Type_Codes`.\n",
    "- Найбільший негативний вплив — `Mileage`, `Engine`.\n",
    "- Ознаки, які не потрапили до значущих (наприклад, `Power`, `Year`), хоч і мають великі коефіцієнти, можуть бути статистично незначущими, отже їх треба інтерпретувати обережно."
   ]
  },
  {
   "cell_type": "markdown",
   "metadata": {
    "id": "pvOdCEVccfcM"
   },
   "source": [
    "**Завдання 9**. Натренуйте лінійну регресію з `statsmodels` тільки на ознаках, які виявлись стат. значущими в попередньому завданні. Проаналізуйте показники моделі. Чи значно змінились R2 і Adj. R-squared?"
   ]
  },
  {
   "cell_type": "code",
   "execution_count": 26,
   "metadata": {
    "id": "2uE1DqiCf85H"
   },
   "outputs": [],
   "source": [
    "significant_indices = [4, 5, 6, 8, 10, 11, 12, 14, 15, 16, 17, 20]\n",
    "X_train_signif = X_train_num.iloc[:, significant_indices]\n",
    "\n",
    "scaler_signif = StandardScaler()\n",
    "X_train_signif_scaled = scaler_signif.fit_transform(X_train_signif)"
   ]
  },
  {
   "cell_type": "code",
   "execution_count": 27,
   "metadata": {},
   "outputs": [],
   "source": [
    "X_train_signif_sm = sm.add_constant(X_train_signif_scaled)\n",
    "model_signif = sm.OLS(y_train, X_train_signif_sm).fit()"
   ]
  },
  {
   "cell_type": "code",
   "execution_count": 28,
   "metadata": {},
   "outputs": [
    {
     "name": "stdout",
     "output_type": "stream",
     "text": [
      "                            OLS Regression Results                            \n",
      "==============================================================================\n",
      "Dep. Variable:                  Price   R-squared:                       0.858\n",
      "Model:                            OLS   Adj. R-squared:                  0.832\n",
      "Method:                 Least Squares   F-statistic:                     33.63\n",
      "Date:                Sun, 15 Jun 2025   Prob (F-statistic):           1.11e-23\n",
      "Time:                        15:17:25   Log-Likelihood:                -1143.4\n",
      "No. Observations:                  80   AIC:                             2313.\n",
      "Df Residuals:                      67   BIC:                             2344.\n",
      "Df Model:                          12                                         \n",
      "Covariance Type:            nonrobust                                         \n",
      "==============================================================================\n",
      "                 coef    std err          t      P>|t|      [0.025      0.975]\n",
      "------------------------------------------------------------------------------\n",
      "const        1.68e+06   4.77e+04     35.251      0.000    1.58e+06    1.78e+06\n",
      "x1          2.767e+05   6.58e+04      4.207      0.000    1.45e+05    4.08e+05\n",
      "x2         -2.134e+05   8.23e+04     -2.591      0.012   -3.78e+05    -4.9e+04\n",
      "x3          2.029e+05   7.89e+04      2.573      0.012    4.55e+04     3.6e+05\n",
      "x4          6711.7347   5.71e+04      0.118      0.907   -1.07e+05    1.21e+05\n",
      "x5          3.262e+05   5.54e+04      5.885      0.000    2.16e+05    4.37e+05\n",
      "x6          8856.6029   6.14e+04      0.144      0.886   -1.14e+05    1.31e+05\n",
      "x7         -6.057e+04   6.26e+04     -0.967      0.337   -1.86e+05    6.44e+04\n",
      "x8         -8.994e+04   5.18e+04     -1.735      0.087   -1.93e+05    1.35e+04\n",
      "x9         -8.062e+04   5.21e+04     -1.547      0.127   -1.85e+05    2.34e+04\n",
      "x10         2.493e+05   5.57e+04      4.476      0.000    1.38e+05    3.61e+05\n",
      "x11        -1.298e+05   7.03e+04     -1.847      0.069    -2.7e+05    1.05e+04\n",
      "x12        -2.309e+05    6.3e+04     -3.667      0.000   -3.57e+05   -1.05e+05\n",
      "==============================================================================\n",
      "Omnibus:                        2.568   Durbin-Watson:                   2.007\n",
      "Prob(Omnibus):                  0.277   Jarque-Bera (JB):                1.878\n",
      "Skew:                           0.249   Prob(JB):                        0.391\n",
      "Kurtosis:                       3.562   Cond. No.                         3.61\n",
      "==============================================================================\n",
      "\n",
      "Notes:\n",
      "[1] Standard Errors assume that the covariance matrix of the errors is correctly specified.\n",
      "Повна модель: R2 = 0.9586, Adj. R2 = 0.9446\n",
      "Модель на значущих: R2 = 0.8576, Adj. R2 = 0.8321\n"
     ]
    }
   ],
   "source": [
    "print(model_signif.summary())\n",
    "\n",
    "print(f\"Повна модель: R2 = {model_sm.rsquared:.4f}, Adj. R2 = {model_sm.rsquared_adj:.4f}\")\n",
    "print(f\"Модель на значущих: R2 = {model_signif.rsquared:.4f}, Adj. R2 = {model_signif.rsquared_adj:.4f}\")\n"
   ]
  },
  {
   "cell_type": "markdown",
   "metadata": {},
   "source": [
    "- Зменшення R2 та Adj. R2 є очікуваним, оскільки ми використали менше ознак. \n",
    "- Але R2 = 0.8576, Adj. R2 = 0.8321 - все ще дуже хороші значення.\n",
    "- Високі значення R2 та Adj. R2 для повної моделі можуть свідчити про overfitting.\n",
    "- Нова модель зосереджена лише на факторах, які достовірно впливають на ціну, тож вона більш стійка до шуму та краще працюватиме на нових даних."
   ]
  },
  {
   "cell_type": "markdown",
   "metadata": {
    "id": "q-AJSrlxdx-p"
   },
   "source": [
    "**Завдання 10**. Натренуйте лінійну регресію з `statsmodels` на усіх ознаках з масштабованого `X_train`, у яких p_value в завданні 7 менше за `0.25`. Ми таким чином помʼякшили критерій відбору ознак. Проаналізуйте показники моделі. Чи значно змінились R2 і Adj. R-squared порівняно з завданням 7? Яку модель з останніх 3х завдань ви б лишили для використання?"
   ]
  },
  {
   "cell_type": "code",
   "execution_count": 29,
   "metadata": {
    "id": "nBVF4b-bgAdz"
   },
   "outputs": [],
   "source": [
    "# Фільтруємо p-values з порогом 0.25 (ігноруємо константу)\n",
    "significant_025 = p_values[p_values < 0.25].drop('const', errors='ignore')\n",
    "\n",
    "significant_025_indices = [int(s[1:]) for s in significant_025.index]  # x4 -> 4"
   ]
  },
  {
   "cell_type": "code",
   "execution_count": 30,
   "metadata": {},
   "outputs": [],
   "source": [
    "X_train_025 = X_train_num.iloc[:, significant_025_indices]"
   ]
  },
  {
   "cell_type": "code",
   "execution_count": 31,
   "metadata": {},
   "outputs": [],
   "source": [
    "scaler_025 = StandardScaler()\n",
    "X_train_025_scaled = scaler_025.fit_transform(X_train_025)\n",
    "\n",
    "X_train_025_sm = sm.add_constant(X_train_025_scaled)"
   ]
  },
  {
   "cell_type": "code",
   "execution_count": 32,
   "metadata": {},
   "outputs": [
    {
     "name": "stdout",
     "output_type": "stream",
     "text": [
      "                            OLS Regression Results                            \n",
      "==============================================================================\n",
      "Dep. Variable:                  Price   R-squared:                       0.884\n",
      "Model:                            OLS   Adj. R-squared:                  0.857\n",
      "Method:                 Least Squares   F-statistic:                     32.47\n",
      "Date:                Sun, 15 Jun 2025   Prob (F-statistic):           3.65e-24\n",
      "Time:                        15:17:25   Log-Likelihood:                -1135.3\n",
      "No. Observations:                  80   AIC:                             2303.\n",
      "Df Residuals:                      64   BIC:                             2341.\n",
      "Df Model:                          15                                         \n",
      "Covariance Type:            nonrobust                                         \n",
      "==============================================================================\n",
      "                 coef    std err          t      P>|t|      [0.025      0.975]\n",
      "------------------------------------------------------------------------------\n",
      "const        1.68e+06    4.4e+04     38.146      0.000    1.59e+06    1.77e+06\n",
      "x1         -2.247e+04   6.09e+04     -0.369      0.713   -1.44e+05    9.92e+04\n",
      "x2          2.083e+05   6.56e+04      3.175      0.002    7.72e+04    3.39e+05\n",
      "x3         -1.813e+05   8.47e+04     -2.142      0.036    -3.5e+05   -1.22e+04\n",
      "x4          2.601e+05    7.7e+04      3.378      0.001    1.06e+05    4.14e+05\n",
      "x5          5922.0907   6.45e+04      0.092      0.927   -1.23e+05    1.35e+05\n",
      "x6          2.374e+05   5.69e+04      4.174      0.000    1.24e+05    3.51e+05\n",
      "x7         -9.879e+04   6.48e+04     -1.525      0.132   -2.28e+05    3.06e+04\n",
      "x8         -1.449e+05   6.35e+04     -2.281      0.026   -2.72e+05    -1.8e+04\n",
      "x9          -1.77e+05   5.39e+04     -3.282      0.002   -2.85e+05   -6.93e+04\n",
      "x10        -1.718e+05   5.43e+04     -3.162      0.002    -2.8e+05   -6.33e+04\n",
      "x11        -1.588e+05   5.25e+04     -3.026      0.004   -2.64e+05    -5.4e+04\n",
      "x12         1.768e+05   5.57e+04      3.174      0.002    6.55e+04    2.88e+05\n",
      "x13        -2.288e+05    7.3e+04     -3.135      0.003   -3.75e+05    -8.3e+04\n",
      "x14        -1.583e+05   5.96e+04     -2.657      0.010   -2.77e+05   -3.93e+04\n",
      "x15        -1.867e+05   6.44e+04     -2.898      0.005   -3.15e+05    -5.8e+04\n",
      "==============================================================================\n",
      "Omnibus:                        2.020   Durbin-Watson:                   1.971\n",
      "Prob(Omnibus):                  0.364   Jarque-Bera (JB):                1.476\n",
      "Skew:                           0.069   Prob(JB):                        0.478\n",
      "Kurtosis:                       3.651   Cond. No.                         4.64\n",
      "==============================================================================\n",
      "\n",
      "Notes:\n",
      "[1] Standard Errors assume that the covariance matrix of the errors is correctly specified.\n"
     ]
    }
   ],
   "source": [
    "model_025 = sm.OLS(y_train, X_train_025_sm).fit()\n",
    "print(model_025.summary())"
   ]
  },
  {
   "cell_type": "code",
   "execution_count": 33,
   "metadata": {},
   "outputs": [
    {
     "name": "stdout",
     "output_type": "stream",
     "text": [
      "Повна модель (усі ознаки): R2 = 0.9586, Adj. R2 = 0.9446\n",
      "Модель p<0.05: R2 = 0.8576, Adj. R2 = 0.8321\n",
      "Модель p<0.25: R2 = 0.8839, Adj. R2 = 0.8566\n"
     ]
    }
   ],
   "source": [
    "print(f\"Повна модель (усі ознаки): R2 = {model_sm.rsquared:.4f}, Adj. R2 = {model_sm.rsquared_adj:.4f}\")\n",
    "print(f\"Модель p<0.05: R2 = {model_signif.rsquared:.4f}, Adj. R2 = {model_signif.rsquared_adj:.4f}\")\n",
    "print(f\"Модель p<0.25: R2 = {model_025.rsquared:.4f}, Adj. R2 = {model_025.rsquared_adj:.4f}\")"
   ]
  },
  {
   "cell_type": "markdown",
   "metadata": {},
   "source": [
    "- Модель з p < 0.25 значно покращує R2 та Adj. R2 порівняно з моделлю p < 0.05, але поступається повній.\n",
    "- Модель p < 0.05 - менш точна, але найнадійніша, добре інтерпретована, рекомендована для бізнес-рішень.\n",
    "- Водночас, модель p < 0.25 менш схильна до перенавчання, ніж повна модель. Можна сказала, що це баланс між повною моделлю та p < 0.05: точніше, але складніше."
   ]
  },
  {
   "cell_type": "code",
   "execution_count": null,
   "metadata": {},
   "outputs": [],
   "source": []
  }
 ],
 "metadata": {
  "colab": {
   "provenance": []
  },
  "kernelspec": {
   "display_name": "Python 3 (ipykernel)",
   "language": "python",
   "name": "python3"
  },
  "language_info": {
   "codemirror_mode": {
    "name": "ipython",
    "version": 3
   },
   "file_extension": ".py",
   "mimetype": "text/x-python",
   "name": "python",
   "nbconvert_exporter": "python",
   "pygments_lexer": "ipython3",
   "version": "3.10.12"
  }
 },
 "nbformat": 4,
 "nbformat_minor": 4
}
