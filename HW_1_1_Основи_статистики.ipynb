{
 "cells": [
  {
   "cell_type": "markdown",
   "metadata": {
    "id": "SDhaTqxcWhnP"
   },
   "source": [
    "В цьому домашньому завданні відпрацюємо з вами знання, отримані в модулі зі статистики.\n",
    "\n",
    "**Завдання 1.** Ми обговорили з Вами на лекції, що велика літера Сігма грецького алфавіту позначає в математиці суму. Знайдіть з використанням Python $\\Sigma x$, $\\Sigma x^2$, та $\\Sigma (x-1)^2$ для наступного набору даних:\n",
    "`1 3 4`\n",
    "Виведіть результат кожного обчислення на екран."
   ]
  },
  {
   "cell_type": "code",
   "execution_count": 8,
   "metadata": {
    "id": "B1mgx_IBT0e8"
   },
   "outputs": [
    {
     "name": "stdout",
     "output_type": "stream",
     "text": [
      "8 26 13\n"
     ]
    }
   ],
   "source": [
    "import numpy as np\n",
    "\n",
    "data = np.array([1, 3, 4])\n",
    "\n",
    "sum_x = np.sum(data)\n",
    "sum_x2 = np.sum(data**2)\n",
    "sum_x_minus_1_squared = np.sum((data - 1)**2)\n",
    "\n",
    "print(sum_x, sum_x2, sum_x_minus_1_squared)"
   ]
  },
  {
   "cell_type": "markdown",
   "metadata": {
    "id": "fa78aW5lhiia"
   },
   "source": [
    "**Завдання 2.** Ми зібрали дані про суму покупок в гривнях 20ма випадково обраними клієнтами в нашому магазині (всього клієнтів у нас більше) за минулий місяць. Вони представлені в змінній `sum_purchases`. Знайдіть **вибіркове середнє** для цих даних кожним з зазначених методів:   \n",
    "\n",
    "  2.1. без використання жодних бібліотек, користуючись тільки Python.  \n",
    "  2.2. використовуючи відповідний метод бібліотеки `numpy`.\n",
    "\n",
    "  Виведіть результат обчислень в кожному з випадків на екран та порівняйте результати. Вони співпадають?"
   ]
  },
  {
   "cell_type": "code",
   "execution_count": 9,
   "metadata": {
    "id": "_9kMt3rq6V5m"
   },
   "outputs": [],
   "source": [
    "sum_purchases = [ 316,  493,  367,  153,  224,  121,  322,  450,  196,  397,  281,\n",
    "  239,  484,  124,  223,  448,  432,  255, 4310, 3524]"
   ]
  },
  {
   "cell_type": "code",
   "execution_count": 11,
   "metadata": {
    "id": "wPmL919HT1c0"
   },
   "outputs": [
    {
     "data": {
      "text/plain": [
       "667.95"
      ]
     },
     "execution_count": 11,
     "metadata": {},
     "output_type": "execute_result"
    }
   ],
   "source": [
    "#2.1\n",
    "av_sum_purchases = sum(sum_purchases) / len(sum_purchases)\n",
    "av_sum_purchases"
   ]
  },
  {
   "cell_type": "code",
   "execution_count": 12,
   "metadata": {},
   "outputs": [
    {
     "data": {
      "text/plain": [
       "667.95"
      ]
     },
     "execution_count": 12,
     "metadata": {},
     "output_type": "execute_result"
    }
   ],
   "source": [
    "#2.2\n",
    "np.mean(sum_purchases)"
   ]
  },
  {
   "cell_type": "markdown",
   "metadata": {
    "id": "FMdoxZd0kZdW"
   },
   "source": [
    "**Завдання 3.** Для того ж набору даних в змінній `sum_purchases` обчисліть **медіану** кожним з зазначених методів:  \n",
    "\n",
    "  3.1. без використання жодних бібліотек, користуючись тільки Python.  \n",
    "  3.2. використовуючи відповідний метод бібліотеки numpy.  \n",
    "\n",
    "Виведіть результат обчислень в кожному з випадків на екран. Порівняйте результати зі значенням вибіркового середнього. Напишіть коментар, для яких задач ви б використовували вибіркове середнє, а для яких - медіану?"
   ]
  },
  {
   "cell_type": "code",
   "execution_count": 14,
   "metadata": {
    "id": "x58BumvuT2nl"
   },
   "outputs": [
    {
     "data": {
      "text/plain": [
       "319.0"
      ]
     },
     "execution_count": 14,
     "metadata": {},
     "output_type": "execute_result"
    }
   ],
   "source": [
    "#3.1\n",
    "(sorted(sum_purchases)[len(sum_purchases)//2-1] + sorted(sum_purchases)[len(sum_purchases)//2]) / 2"
   ]
  },
  {
   "cell_type": "code",
   "execution_count": 16,
   "metadata": {},
   "outputs": [
    {
     "data": {
      "text/plain": [
       "319.0"
      ]
     },
     "execution_count": 16,
     "metadata": {},
     "output_type": "execute_result"
    }
   ],
   "source": [
    "#3.2\n",
    "np.median(sum_purchases)"
   ]
  },
  {
   "cell_type": "code",
   "execution_count": 81,
   "metadata": {},
   "outputs": [],
   "source": [
    "# Оскільки медіана менш чутлива до екстримальних значень, то її доцільно використовувати, коли дані мають викиди.\n",
    "# Вибіркове середнє - коли дані симетричні і без викидів."
   ]
  },
  {
   "cell_type": "markdown",
   "metadata": {
    "id": "o1Z7az2yNDQV"
   },
   "source": [
    "**Завдання 4**. Обчислість стандартне відхилення наведеної вибірки в змінній `sum_purchases` кожним з зазначених методів:  \n",
    "\n",
    "  4.1. без використання жодних бібліотек, користуючись тільки Python.  \n",
    "  4.2. використовуючи відповідний метод бібліотеки numpy.  \n",
    "\n",
    "Виведіть результат обчислень в кожному з випадків на екран."
   ]
  },
  {
   "cell_type": "code",
   "execution_count": 25,
   "metadata": {},
   "outputs": [
    {
     "data": {
      "text/plain": [
       "667.95"
      ]
     },
     "execution_count": 25,
     "metadata": {},
     "output_type": "execute_result"
    }
   ],
   "source": [
    "av_sum_purchases"
   ]
  },
  {
   "cell_type": "code",
   "execution_count": 75,
   "metadata": {
    "id": "X4ixtmL2T642"
   },
   "outputs": [
    {
     "data": {
      "text/plain": [
       "1096.07"
      ]
     },
     "execution_count": 75,
     "metadata": {},
     "output_type": "execute_result"
    }
   ],
   "source": [
    "#4.1\n",
    "x_minus_mean = [(el - av_sum_purchases)**2 for el in sum_purchases]\n",
    "std_x_sample = (sum(x_minus_mean)/(len(sum_purchases))) ** 0.5\n",
    "std_x_sample.round(2)"
   ]
  },
  {
   "cell_type": "code",
   "execution_count": 76,
   "metadata": {},
   "outputs": [
    {
     "data": {
      "text/plain": [
       "1096.07"
      ]
     },
     "execution_count": 76,
     "metadata": {},
     "output_type": "execute_result"
    }
   ],
   "source": [
    "#4.2\n",
    "np.std(sum_purchases).round(2)"
   ]
  },
  {
   "cell_type": "markdown",
   "metadata": {
    "id": "M1ntKTjXLVlH"
   },
   "source": [
    "**Завдання 5**. Ми провели дослідження віку студентів-першокурсників. Виявилось, що\n",
    "- 10 студентів мають вік 16 років\n",
    "- 25 студентів - 17 років\n",
    "- 20 студентів - 18 років\n",
    "- 2 студенти - 20 років\n",
    "\n",
    "Обчислість середнє значення для цієї вибірки будь-яким способом - на чистому Python або з numpy - та виведіть результат на екран."
   ]
  },
  {
   "cell_type": "code",
   "execution_count": 29,
   "metadata": {
    "id": "RdIU4M-7T8R4"
   },
   "outputs": [
    {
     "name": "stdout",
     "output_type": "stream",
     "text": [
      "Середній вік студентів: 17.28\n"
     ]
    }
   ],
   "source": [
    "students_ages = np.array([16]*10 + [17]*25 + [18]*20 + [20]*2)\n",
    "average_age = np.mean(students_ages).round(2)\n",
    "\n",
    "print(\"Середній вік:\", average_age)"
   ]
  },
  {
   "cell_type": "code",
   "execution_count": 32,
   "metadata": {},
   "outputs": [
    {
     "name": "stdout",
     "output_type": "stream",
     "text": [
      "Середній вік: 17.28\n"
     ]
    }
   ],
   "source": [
    "ages = [16]*10 + [17]*25 + [18]*20 + [20]*2\n",
    "average_age_2 = round(sum(ages) / len(ages), 2)\n",
    "\n",
    "print(\"Середній вік:\", average_age_2)"
   ]
  },
  {
   "cell_type": "markdown",
   "metadata": {
    "id": "Xx8MFkkVM53z"
   },
   "source": [
    "**Завдання 6**. Крім даних про суму покупок, ми зібрали ще дані про кількість відвідувань кожного з кожного покупця, які знаходяться в змінній `visits`. Обчисліть коефіцієнт кореляції Пірсона для суми покупок і кількості відвідувань кожним з зазначених методів:  \n",
    "\n",
    "  6.1. без використання жодних бібліотек, користуючись тільки Python.  \n",
    "  6.2. використовуючи відповідний метод бібліотеки numpy.  \n",
    "  \n",
    "Виведіть результат на екран. Проаналізуйте результат.\n",
    "\n",
    "Виведіть додатково графік розсіювання викликавши код нижче і зробіть заключення, чи варто щось змінити при підрахунку кореляції, аби коефіцієнт Пірсона показував коректну оцінку лінійної залежності?"
   ]
  },
  {
   "cell_type": "code",
   "execution_count": 33,
   "metadata": {
    "id": "4OIGBT7UOWhO"
   },
   "outputs": [],
   "source": [
    "visits = [ 6,  2, 10,  3,  9,  9,  2,  3,  6,  6, 10,  2,  5, 10,  3,  5,  4,\n",
    "        7,  4,  2]"
   ]
  },
  {
   "cell_type": "code",
   "execution_count": 77,
   "metadata": {
    "id": "YLNF7VbeT97Q"
   },
   "outputs": [
    {
     "name": "stdout",
     "output_type": "stream",
     "text": [
      "Стандартне відхилення sum_purchases:  1096.07\n",
      "Стандартне відхилення visits:  2.84\n",
      "Коваріація:  -940.63\n",
      "Коефіцієнт кореляції Пірсона:  -0.3\n"
     ]
    }
   ],
   "source": [
    "#6.1\n",
    "print('Стандартне відхилення sum_purchases: ', std_x_sample.round(2))\n",
    "\n",
    "av_visits = sum(visits) / len(visits)\n",
    "y_minus_mean = [(el - av_visits)**2 for el in visits]\n",
    "std_y_sample = (sum(y_minus_mean)/(len(visits))) ** 0.5\n",
    "print('Стандартне відхилення visits: ', std_y_sample.round(2))\n",
    "\n",
    "xy = [ (sum_purchases[i] - av_sum_purchases)*(visits[i] - av_visits) for i in range(len(sum_purchases))]\n",
    "cov_xy = sum(xy)/(len(sum_purchases))\n",
    "print('Коваріація: ', cov_xy.round(2))\n",
    "\n",
    "corr_coef = cov_xy / (std_x_sample * std_y_sample)\n",
    "print('Коефіцієнт кореляції Пірсона: ', corr_coef.round(2))"
   ]
  },
  {
   "cell_type": "code",
   "execution_count": 78,
   "metadata": {},
   "outputs": [
    {
     "data": {
      "text/plain": [
       "-0.3"
      ]
     },
     "execution_count": 78,
     "metadata": {},
     "output_type": "execute_result"
    }
   ],
   "source": [
    "#6.2\n",
    "np.corrcoef(sum_purchases,visits)[0, 1].round(2)"
   ]
  },
  {
   "cell_type": "code",
   "execution_count": 38,
   "metadata": {
    "colab": {
     "base_uri": "https://localhost:8080/",
     "height": 472
    },
    "id": "gaeoGA-5Prr1",
    "outputId": "0c910a7f-0e96-449a-881d-1efa453b3c8d"
   },
   "outputs": [
    {
     "data": {
      "image/png": "[encoded data removed]",
      "text/plain": [
       "<Figure size 640x480 with 1 Axes>"
      ]
     },
     "metadata": {},
     "output_type": "display_data"
    }
   ],
   "source": [
    "import matplotlib.pyplot as plt\n",
    "\n",
    "plt.scatter(sum_purchases, visits)\n",
    "plt.title('Scatter Plot of Purchases vs. Visits')\n",
    "plt.xlabel('Sum of Purchases')\n",
    "plt.ylabel('Number of Visits');"
   ]
  },
  {
   "cell_type": "code",
   "execution_count": 39,
   "metadata": {},
   "outputs": [],
   "source": [
    "# На основі графіку можна зробити висновок, що у нас є викиди, які впливаю на коефіцієнт кореляції. \n",
    "# Можливим рішенням є виключити 2 точки, які значно вибиваються із загальної картини.\n",
    "# Та перерахувати коефіцієнт знову."
   ]
  },
  {
   "cell_type": "markdown",
   "metadata": {
    "id": "4pEg0KzSQ6KA"
   },
   "source": [
    "**Завдання 7**. В попередньому завданні ми помітили, що викиди нам заважають отримати \"правдиве\" значення кореляції. Давайте вилучимо записи, які відповідають значенням з викидами в сумі покупок і обчисліть коеф. кореляції. Для цього поставте `threshold`, який дорінює середньому значенню + 2 стандартних вдіхилля суми покупок і всі значення, які більше за нього, будемо вважати викидами (є і інші правила для визначення викидів - з ним и познайомимось пізніше).\n",
    "\n",
    "Вилучіть значення з обох масивів і обчисліть коеф. кореляції Пірсона з допомогою `numpy` для кількості візитів і суми покупок без записів-викидів. Виведіть результат на екран, побудуйте діаграму розсіювання і проаналізуйте результат: що можемо сказати про залежність в даних?"
   ]
  },
  {
   "cell_type": "code",
   "execution_count": 56,
   "metadata": {},
   "outputs": [
    {
     "name": "stdout",
     "output_type": "stream",
     "text": [
      "Середнє значення суми покупок:  667.95\n",
      "Стандартне відхилення суми покупок:  1096.07\n",
      "Поріг для виявлення викидів:  2860.09\n"
     ]
    }
   ],
   "source": [
    "threshold = av_sum_purchases + 2 * std_x_sample\n",
    "\n",
    "print('Середнє значення суми покупок: ', av_sum_purchases.round(2))\n",
    "print('Стандартне відхилення суми покупок: ', std_x_sample.round(2))\n",
    "print('Поріг для виявлення викидів: ', threshold.round(2))"
   ]
  },
  {
   "cell_type": "code",
   "execution_count": 57,
   "metadata": {},
   "outputs": [],
   "source": [
    "visits = np.array(visits)\n",
    "sum_purchases = np.array(sum_purchases)"
   ]
  },
  {
   "cell_type": "code",
   "execution_count": 59,
   "metadata": {},
   "outputs": [
    {
     "name": "stdout",
     "output_type": "stream",
     "text": [
      "Кількість початкових елементів:  20\n",
      "Кількість відфільтрованих елементів:  18\n",
      "Кількість видалених викидів:  2\n"
     ]
    }
   ],
   "source": [
    "# Iндекси значень, які НЕ є викидами\n",
    "mask = sum_purchases <= threshold\n",
    "\n",
    "filtered_visits = visits[mask]\n",
    "filtered_purchases = sum_purchases[mask]\n",
    "\n",
    "print('Кількість початкових елементів: ', len(sum_purchases))\n",
    "print('Кількість відфільтрованих елементів: ', len(filtered_purchases))\n",
    "print('Кількість видалених викидів: ', len(sum_purchases) - len(filtered_purchases))"
   ]
  },
  {
   "cell_type": "code",
   "execution_count": 60,
   "metadata": {},
   "outputs": [
    {
     "name": "stdout",
     "output_type": "stream",
     "text": [
      "\n",
      "Значення викидів:\n",
      "Індекс 18: sum_purchases = 4310.00, visits = 4\n",
      "Індекс 19: sum_purchases = 3524.00, visits = 2\n"
     ]
    }
   ],
   "source": [
    "outlier_indices = np.where(sum_purchases > threshold)[0]\n",
    "print(\"\\nЗначення викидів:\")\n",
    "for idx in outlier_indices:\n",
    "    print(f\"Індекс {idx}: sum_purchases = {sum_purchases[idx]:.2f}, visits = {visits[idx]}\")"
   ]
  },
  {
   "cell_type": "code",
   "execution_count": 73,
   "metadata": {},
   "outputs": [
    {
     "name": "stdout",
     "output_type": "stream",
     "text": [
      "Коефіцієнт кореляції Пірсона:  -0.3\n",
      "Коефіцієнт кореляції Пірсона (без викидів):  -0.37\n"
     ]
    }
   ],
   "source": [
    "correlation_filtered = np.corrcoef(filtered_visits, filtered_purchases)[0, 1]\n",
    "\n",
    "print('Коефіцієнт кореляції Пірсона: ', corr_coef.round(2))\n",
    "print('Коефіцієнт кореляції Пірсона (без викидів): ', correlation_filtered.round(2))"
   ]
  },
  {
   "cell_type": "code",
   "execution_count": 82,
   "metadata": {},
   "outputs": [
    {
     "data": {
      "image/png": "[encoded data removed]",
      "text/plain": [
       "<Figure size 640x480 with 1 Axes>"
      ]
     },
     "metadata": {},
     "output_type": "display_data"
    }
   ],
   "source": [
    "plt.scatter(filtered_purchases, filtered_visits)\n",
    "plt.title('Scatter Plot of Purchases Filtered vs. Visits Filtered')\n",
    "plt.xlabel('Sum of Purchases')\n",
    "plt.ylabel('Number of Visits');"
   ]
  },
  {
   "cell_type": "markdown",
   "metadata": {},
   "source": [
    "### Аналіз результатів\n",
    "\n",
    "Видалення викидів вплинуло на коефіцієнт кореляції Пірсона, змінивши його з -0.3 до -0.37. \n",
    "Це свідчить, що негативна кореляція між кількістю візитів і сумою покупок є сильнішою у відфільтрованому наборі даних. Інакше кажуче, існує сильніша обернена пропорційність між цими величинами.\n",
    "\n",
    "Якщо оцінити кількісно наскільки змінився коефіцієнт: ((0.37-0.3)/0.3) * 100% ≈ 23.33%. Це суттєво і підтверджує, що викиди дійсно спотворювали реальну картину.\n",
    "\n",
    "Значення -0.37 вказує на помірну негативну кореляцію. Стосовно негативного значення кореляції: вона означає, що загалом при збільшенні кількості візитів спостерігається тенденція до зменшення суми покупок. Тобто існує тенденція: клієнти, які приходять частіше, зазвичай роблять менші покупки за візит, а клієнти, які приходять рідше, витрачають більше за один візит. Загалом, це не суперечить логіці.\n",
    "\n",
    "Отже, очищення даних від викидів дозволило побачити сильнішу, логічно обґрунтовану обернену залежність між частотою візитів і витратами. Це підкреслює важливість попередньої обробки даних перед аналізом."
   ]
  }
 ],
 "metadata": {
  "colab": {
   "provenance": []
  },
  "kernelspec": {
   "display_name": "Python 3 (ipykernel)",
   "language": "python",
   "name": "python3"
  },
  "language_info": {
   "codemirror_mode": {
    "name": "ipython",
    "version": 3
   },
   "file_extension": ".py",
   "mimetype": "text/x-python",
   "name": "python",
   "nbconvert_exporter": "python",
   "pygments_lexer": "ipython3",
   "version": "3.10.12"
  }
 },
 "nbformat": 4,
 "nbformat_minor": 4
}
